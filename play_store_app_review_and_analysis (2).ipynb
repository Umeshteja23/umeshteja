{
  "nbformat": 4,
  "nbformat_minor": 0,
  "metadata": {
    "colab": {
      "private_outputs": true,
      "provenance": []
    },
    "kernelspec": {
      "name": "python3",
      "display_name": "Python 3"
    },
    "language_info": {
      "name": "python"
    }
  },
  "cells": [
    {
      "cell_type": "code",
      "source": [],
      "metadata": {
        "id": "I1apcow5dxii"
      },
      "execution_count": null,
      "outputs": []
    },
    {
      "cell_type": "markdown",
      "source": [
        "# **Project Name - PLAY STORE APP REVIEW AND ANALYSIS **    -\n",
        "\n"
      ],
      "metadata": {
        "id": "vncDsAP0Gaoa"
      }
    },
    {
      "cell_type": "markdown",
      "source": [
        "##### **Project Type**    - EDA/Regression/Classification/Unsupervised\n",
        "##### **Contribution**    - Individual"
      ],
      "metadata": {
        "id": "beRrZCGUAJYm"
      }
    },
    {
      "cell_type": "code",
      "source": [],
      "metadata": {
        "id": "SkOm-DqWl5ZP"
      },
      "execution_count": null,
      "outputs": []
    },
    {
      "cell_type": "markdown",
      "source": [
        "# **Project Summary -**"
      ],
      "metadata": {
        "id": "FJNUwmbgGyua"
      }
    },
    {
      "cell_type": "markdown",
      "source": [
        "This project focuses on exploring and analyzing the Play Store apps data and user reviews to identify key factors driving app engagement and success. The initial data loading and wrangling steps involved:\n",
        "\n",
        "Loading Datasets: Two datasets, Play Store Data.csv and User Reviews.csv, were loaded into pandas DataFrames.\n",
        "Handling Missing Values: Missing values in both datasets were removed using the dropna() method.\n",
        "Handling Duplicates: Duplicate rows were removed from both datasets using the drop_duplicates() method.\n",
        "Data Cleaning and Type Conversion:\n",
        "The 'Installs' column in the Play Store data was cleaned by removing ',' and '+' characters and converted to a numeric type.\n",
        "The 'Price' column was cleaned by removing the '$' sign and converted to a numeric type.\n",
        "The 'Size' column was processed to convert 'M' and 'k' to their numerical equivalents, handle 'Varies with device' by replacing it with NaN, and then impute missing values with the median size. The column was converted to a numeric type.\n",
        "The 'Reviews' column was converted to a numeric type.\n",
        "Merging Datasets: The two dataframes were merged based on the 'App' column using an inner merge to create a combined dataframe (merge_df) containing app details and their corresponding user reviews and sentiment analysis.\n",
        "The merged dataset provides a comprehensive view, allowing for the analysis of relationships between app characteristics (like category, rating, size, installs, type, and price) and user sentiment metrics (sentiment, sentiment polarity, and sentiment subjectivity). The next steps will involve visualizing these relationships and extracting actionable insights to understand what drives app success in the Play Store.\n",
        "\n"
      ],
      "metadata": {
        "id": "F6v_1wHtG2nS"
      }
    },
    {
      "cell_type": "markdown",
      "source": [
        "# **GitHub Link -**"
      ],
      "metadata": {
        "id": "w6K7xa23Elo4"
      }
    },
    {
      "cell_type": "markdown",
      "source": [
        "Provide your GitHub Link here."
      ],
      "metadata": {
        "id": "h1o69JH3Eqqn"
      }
    },
    {
      "cell_type": "markdown",
      "source": [
        "# **Problem Statement**\n"
      ],
      "metadata": {
        "id": "yQaldy8SH6Dl"
      }
    },
    {
      "cell_type": "markdown",
      "source": [
        "**Explore and analyse the data to discover key factors responsible for app engagement and success..**"
      ],
      "metadata": {
        "id": "DpeJGUA3kjGy"
      }
    },
    {
      "cell_type": "markdown",
      "source": [
        "#### **Define Your Business Objective?**"
      ],
      "metadata": {
        "id": "PH-0ReGfmX4f"
      }
    },
    {
      "cell_type": "markdown",
      "source": [
        "The Play Store apps data has enormous potential to drive app-making businesses to success. Actionable insights can be drawn for developers to work on and capture the Android market. Each app (row) has values for category, rating, size, and more. Another dataset contains customer reviews of the android apps.Explore and analyse the data to discover key factors responsible for app engagement and success."
      ],
      "metadata": {
        "id": "PhDvGCAqmjP1"
      }
    },
    {
      "cell_type": "markdown",
      "source": [
        "# **General Guidelines** : -  "
      ],
      "metadata": {
        "id": "mDgbUHAGgjLW"
      }
    },
    {
      "cell_type": "markdown",
      "source": [
        "1.   Well-structured, formatted, and commented code is required.\n",
        "2.   Exception Handling, Production Grade Code & Deployment Ready Code will be a plus. Those students will be awarded some additional credits.\n",
        "     \n",
        "     The additional credits will have advantages over other students during Star Student selection.\n",
        "       \n",
        "             [ Note: - Deployment Ready Code is defined as, the whole .ipynb notebook should be executable in one go\n",
        "                       without a single error logged. ]\n",
        "\n",
        "3.   Each and every logic should have proper comments.\n",
        "4. You may add as many number of charts you want. Make Sure for each and every chart the following format should be answered.\n",
        "        \n",
        "\n",
        "```\n",
        "# Chart visualization code\n",
        "```\n",
        "            \n",
        "\n",
        "*   Why did you pick the specific chart?\n",
        "*   What is/are the insight(s) found from the chart?\n",
        "* Will the gained insights help creating a positive business impact?\n",
        "Are there any insights that lead to negative growth? Justify with specific reason.\n",
        "\n",
        "5. You have to create at least 20 logical & meaningful charts having important insights.\n",
        "\n",
        "\n",
        "[ Hints : - Do the Vizualization in  a structured way while following \"UBM\" Rule.\n",
        "\n",
        "U - Univariate Analysis,\n",
        "\n",
        "B - Bivariate Analysis (Numerical - Categorical, Numerical - Numerical, Categorical - Categorical)\n",
        "\n",
        "M - Multivariate Analysis\n",
        " ]\n",
        "\n",
        "\n",
        "\n"
      ],
      "metadata": {
        "id": "ZrxVaUj-hHfC"
      }
    },
    {
      "cell_type": "markdown",
      "source": [
        "# ***Let's Begin !***"
      ],
      "metadata": {
        "id": "O_i_v8NEhb9l"
      }
    },
    {
      "cell_type": "markdown",
      "source": [
        "## ***1. Know Your Data***"
      ],
      "metadata": {
        "id": "HhfV-JJviCcP"
      }
    },
    {
      "cell_type": "markdown",
      "source": [
        "### Import Libraries"
      ],
      "metadata": {
        "id": "Y3lxredqlCYt"
      }
    },
    {
      "cell_type": "code",
      "source": [
        "# Import Libraries\n",
        "import pandas as pd\n",
        "import numpy as np\n",
        "import matplotlib.pyplot as plt\n",
        "import seaborn as sns\n",
        "import warnings\n",
        "warnings.filterwarnings('ignore')"
      ],
      "metadata": {
        "id": "M8Vqi-pPk-HR"
      },
      "execution_count": null,
      "outputs": []
    },
    {
      "cell_type": "markdown",
      "source": [
        "### Dataset Loading"
      ],
      "metadata": {
        "id": "3RnN4peoiCZX"
      }
    },
    {
      "cell_type": "code",
      "source": [
        "# Load Dataset\n",
        "from google.colab import drive\n",
        "drive.mount('/content/drive')"
      ],
      "metadata": {
        "id": "4CkvbW_SlZ_R"
      },
      "execution_count": null,
      "outputs": []
    },
    {
      "cell_type": "markdown",
      "source": [
        "### Dataset First View"
      ],
      "metadata": {
        "id": "x71ZqKXriCWQ"
      }
    },
    {
      "cell_type": "code",
      "source": [
        "# Dataset First view\n",
        "data1 = pd.read_csv('/content/drive/MyDrive/EDA/Play Store Data.csv')\n",
        "data2 = pd.read_csv('/content/drive/MyDrive/EDA/User Reviews.csv')"
      ],
      "metadata": {
        "id": "LWNFOSvLl09H"
      },
      "execution_count": null,
      "outputs": []
    },
    {
      "cell_type": "markdown",
      "source": [
        "### Dataset Rows & Columns count"
      ],
      "metadata": {
        "id": "7hBIi_osiCS2"
      }
    },
    {
      "cell_type": "code",
      "source": [
        "# Dataset Rows & Columns count\n",
        "print(data1.shape)\n",
        "print(data2.shape)"
      ],
      "metadata": {
        "id": "Kllu7SJgmLij"
      },
      "execution_count": null,
      "outputs": []
    },
    {
      "cell_type": "markdown",
      "source": [
        "### Dataset Information"
      ],
      "metadata": {
        "id": "JlHwYmJAmNHm"
      }
    },
    {
      "cell_type": "code",
      "source": [
        "# Dataset Info\n",
        "data1.info()\n",
        "data2.info()"
      ],
      "metadata": {
        "id": "e9hRXRi6meOf"
      },
      "execution_count": null,
      "outputs": []
    },
    {
      "cell_type": "markdown",
      "source": [
        "#### Duplicate Values"
      ],
      "metadata": {
        "id": "35m5QtbWiB9F"
      }
    },
    {
      "cell_type": "code",
      "source": [
        "# Dataset Duplicate Value Count\n",
        "data1.duplicated().sum()\n"
      ],
      "metadata": {
        "id": "1sLdpKYkmox0"
      },
      "execution_count": null,
      "outputs": []
    },
    {
      "cell_type": "markdown",
      "source": [
        "#### Missing Values/Null Values"
      ],
      "metadata": {
        "id": "PoPl-ycgm1ru"
      }
    },
    {
      "cell_type": "code",
      "source": [
        "# Missing Values/Null Values Count\n",
        "data1.isnull().sum()\n"
      ],
      "metadata": {
        "id": "GgHWkxvamxVg"
      },
      "execution_count": null,
      "outputs": []
    },
    {
      "cell_type": "code",
      "source": [
        "# Visualizing the missing values\n",
        "sns.heatmap(data1.isnull(), cbar=False)\n"
      ],
      "metadata": {
        "id": "3q5wnI3om9sJ"
      },
      "execution_count": null,
      "outputs": []
    },
    {
      "cell_type": "markdown",
      "source": [
        "### What did you know about your dataset?"
      ],
      "metadata": {
        "id": "H0kj-8xxnORC"
      }
    },
    {
      "cell_type": "markdown",
      "source": [
        "This dataset appears to contain information about various mobile applications, including their names, categories, ratings, reviews, size, installation numbers, type, price, content rating, genres, last update, current version, and Android version. The presence of missing values suggests that some data points may be incomplete or unavailable for certain applications.Answer Here"
      ],
      "metadata": {
        "id": "gfoNAAC-nUe_"
      }
    },
    {
      "cell_type": "markdown",
      "source": [
        "## ***2. Understanding Your Variables***"
      ],
      "metadata": {
        "id": "nA9Y7ga8ng1Z"
      }
    },
    {
      "cell_type": "code",
      "source": [
        "# Dataset Columns\n",
        "print(data1.columns)\n",
        "print(data2.columns)"
      ],
      "metadata": {
        "id": "j7xfkqrt5Ag5"
      },
      "execution_count": null,
      "outputs": []
    },
    {
      "cell_type": "code",
      "source": [
        "# Dataset Describe\n",
        "data1.describe()\n"
      ],
      "metadata": {
        "id": "DnOaZdaE5Q5t"
      },
      "execution_count": null,
      "outputs": []
    },
    {
      "cell_type": "code",
      "source": [
        "# prompt: # data describe\n",
        "\n",
        "data2.describe()"
      ],
      "metadata": {
        "id": "TCAJ_p06vDOY"
      },
      "execution_count": null,
      "outputs": []
    },
    {
      "cell_type": "markdown",
      "source": [
        "### Variables Description"
      ],
      "metadata": {
        "id": "PBTbrJXOngz2"
      }
    },
    {
      "cell_type": "markdown",
      "source": [
        "Sentiment_Polarity:\n",
        "\n",
        "Description: This variable represents the sentiment polarity of a given text, ranging from -1 to 1.\n",
        "Interpretation:\n",
        "-1 indicates a negative sentiment\n",
        "0 indicates a neutral sentiment\n",
        "1 indicates a positive sentiment\n",
        "Mean: 0.182146, indicating that on average, the texts have a slightly positive sentiment.\n",
        "Standard Deviation: 0.351301, suggesting a moderate amount of variation in the sentiment polarity.\n",
        "Minimum: -1.0, meaning there are some texts with a negative sentiment.\n",
        "25th Percentile: 0.0, indicating that 25% of the texts have a neutral sentiment.\n",
        "Median: 0.150000, suggesting that 50% of the texts have a positive sentiment.\n",
        "75th Percentile: 0.400000, meaning that 75% of the texts have a sentiment polarity less than 0.4.\n",
        "Maximum: 1.0, indicating that there are some texts with a strongly positive sentiment.\n",
        "Sentiment_Subjectivity: This variable represents the subjectivity of the sentiment in the given text, ranging from 0 to 1.\n",
        "Interpretation:\n",
        "0 indicates a very objective text\n",
        "1 indicates a very subjective text\n",
        "Mean: 0.492704, suggesting that on average, the texts have a moderate level of subjectivity.\n",
        "Standard Deviation: 0.259949, indicating a relatively low amount of variation in the subjectivity.\n",
        "Minimum: 0.0, meaning there are some very objective texts.\n",
        "25th Percentile: 0.357143, indicating that 25% of the texts have a subjectivity level less than 0.357143.\n",
        "Median: 0.514286, suggesting that 50% of the texts have a subjectivity level less than 0.514286.\n",
        "75th Percentile: 0.650000, meaning that 75% of the texts have a subjectivity level less than 0.65.\n",
        "Maximum: 1.0, indicating that there are some very subjective texts.\n",
        "Overall, this dataset appears to contain sentiment analysis metrics for a large number of texts, with the Sentiment_Polarity variable capturing the positivity or negativity of the sentiment, and the Sentiment_Subjectivity variable capturing the level of subjectivity in the texts."
      ],
      "metadata": {
        "id": "aJV4KIxSnxay"
      }
    },
    {
      "cell_type": "markdown",
      "source": [
        "### Check Unique Values for each variable."
      ],
      "metadata": {
        "id": "u3PMJOP6ngxN"
      }
    },
    {
      "cell_type": "code",
      "source": [
        "# Check Unique Values for each variable.\n",
        "data1.nunique()\n",
        "data2.nunique()"
      ],
      "metadata": {
        "id": "zms12Yq5n-jE"
      },
      "execution_count": null,
      "outputs": []
    },
    {
      "cell_type": "markdown",
      "source": [
        "## 3. ***Data Wrangling***"
      ],
      "metadata": {
        "id": "dauF4eBmngu3"
      }
    },
    {
      "cell_type": "markdown",
      "source": [
        "### Data Wrangling Code"
      ],
      "metadata": {
        "id": "bKJF3rekwFvQ"
      }
    },
    {
      "cell_type": "code",
      "source": [
        "# Write your code to make your dataset analysis ready.\n",
        "\n",
        "# Handle missing values\n",
        "data1.dropna(inplace=True)\n",
        "data2.dropna(inplace=True)\n",
        "\n",
        "# Handle duplicates\n",
        "data1.drop_duplicates(inplace=True)\n",
        "data2.drop_duplicates(inplace=True)\n",
        "\n",
        "# Clean 'Installs' column in data1\n",
        "data1['Installs'] = data1['Installs'].str.replace(',', '').str.replace('+', '')\n",
        "data1['Installs'] = pd.to_numeric(data1['Installs'])\n",
        "\n",
        "# Clean 'Price' column in data1\n",
        "data1['Price'] = data1['Price'].str.replace('$', '')\n",
        "data1['Price'] = pd.to_numeric(data1['Price'])\n",
        "\n",
        "# Clean 'Size' column in data1\n",
        "# Convert 'M' to megabytes and 'k' to kilobytes\n",
        "data1['Size'] = data1['Size'].apply(lambda x: str(x).replace('M', 'e6').replace('k', 'e3').replace(',', ''))\n",
        "# Convert 'Varies with device' to NaN and then fill with median (or another strategy)\n",
        "data1['Size'] = data1['Size'].replace('Varies with device', np.nan)\n",
        "data1['Size'] = pd.to_numeric(data1['Size'])\n",
        "data1['Size'].fillna(data1['Size'].median(), inplace=True)\n",
        "\n",
        "\n",
        "# Convert 'Reviews' to numeric\n",
        "data1['Reviews'] = pd.to_numeric(data1['Reviews'])\n",
        "\n",
        "# Merge the two dataframes\n",
        "merge_df = pd.merge(data1, data2, on='App', how='inner') # Using inner merge to keep only matching apps\n",
        "\n",
        "# Display information about the merged dataframe\n",
        "print(\"Merged Dataframe Info:\")\n",
        "merge_df.info()\n",
        "\n",
        "# Display descriptive statistics for the merged dataframe\n",
        "print(\"\\nMerged Dataframe Description:\")\n",
        "display(merge_df.describe())\n",
        "\n",
        "# Display the first few rows of the merged dataframe\n",
        "print(\"\\nMerged Dataframe Head:\")\n",
        "display(merge_df.head())\n",
        "\n",
        "# Check for missing and duplicate values in the merged dataframe\n",
        "print(\"\\nMissing values in Merged Dataframe:\")\n",
        "print(merge_df.isnull().sum())\n",
        "\n",
        "print(\"\\nDuplicate values in Merged Dataframe:\")\n",
        "print(merge_df.duplicated().sum())"
      ],
      "metadata": {
        "id": "wk-9a2fpoLcV"
      },
      "execution_count": null,
      "outputs": []
    },
    {
      "cell_type": "markdown",
      "source": [
        "### What all manipulations have you done and insights you found?"
      ],
      "metadata": {
        "id": "MSa1f5Uengrz"
      }
    },
    {
      "cell_type": "markdown",
      "source": [
        "Dataset 1:\n",
        "\n",
        "This dataset has 8,886 rows and 13 columns.\n",
        "The columns include 'App', 'Category', 'Rating', 'Reviews', 'Size', 'Installs', 'Type', 'Price', 'Content Rating', 'Genres', 'Last Updated', 'Current Ver', and 'Android Ver'.\n",
        "The data types are mostly 'object', except for the 'Rating' column which is of 'float64' data type.\n",
        "\n",
        "Dataset 2:\n",
        "\n",
        "This dataset has 29,692 rows and 5 columns.\n",
        "The columns include 'App', 'Translated_Review', 'Sentiment', 'Sentiment_Polarity', and 'Sentiment_Subjectivity'.\n",
        "The data types are 'object' for 'App', 'Translated_Review', and 'Sentiment', and 'float64' for 'Sentiment_Polarity' and 'Sentiment_Subjectivity'.\n",
        "\n",
        "Based on the information provided, it seems that you have not performed any specific data manipulations yet. The key insights that can be drawn from the current state of the datasets are:\n",
        "\n",
        "Dataset 1:\n",
        "\n",
        "This dataset contains information about various mobile applications, including their names, categories, ratings, reviews, size, installation numbers, type, price, content rating, genres, last update, current version, and Android version.\n",
        "The presence of missing values (non-null count is less than the total rows) suggests that some data points may be incomplete or unavailable for certain applications.\n",
        "The majority of the columns are of 'object' data type, which may require further data type conversions or cleaning depending on the analysis requirements.\n",
        "Dataset 2:\n",
        "\n",
        "This dataset appears to contain sentiment analysis data, including the app name, translated review text, sentiment label, sentiment polarity, and sentiment subjectivity.\n",
        "All the columns have complete data (no missing values).\n",
        "The 'Sentiment_Polarity' and 'Sentiment_Subjectivity' columns are of 'float64' data type, which is suitable for numerical analysis.\n",
        "To proceed with the data analysis, you may want to consider the following steps:\n",
        "\n",
        "Dataset 1:\n",
        "\n",
        "Handle the missing values in the dataset, either by dropping the rows or imputing the missing values.\n",
        "Convert the data types of the relevant columns to the appropriate types (e.g., converting 'Size', 'Installs', 'Price' to numeric types).\n",
        "Perform exploratory data analysis to understand the distribution, relationships, and patterns in the dataset.\n",
        "Dataset 2:\n",
        "\n",
        "Explore the sentiment analysis data, such as the distribution of sentiment labels, polarity, and subjectivity.\n",
        "Investigate any relationships between the sentiment metrics and the app information from the first dataset (e.g., app category, rating, reviews).\n",
        "Consider performing additional sentiment analysis or text processing on the 'Translated_Review' column.\n",
        "By combining insights from both datasets, you can gain a more comprehensive understanding of the mobile app market and the sentiment associated with the apps."
      ],
      "metadata": {
        "id": "LbyXE7I1olp8"
      }
    },
    {
      "cell_type": "markdown",
      "source": [
        "## ***4. Data Vizualization, Storytelling & Experimenting with charts : Understand the relationships between variables***"
      ],
      "metadata": {
        "id": "GF8Ens_Soomf"
      }
    },
    {
      "cell_type": "markdown",
      "source": [
        "#### Chart - 1"
      ],
      "metadata": {
        "id": "0wOQAZs5pc--"
      }
    },
    {
      "cell_type": "code",
      "source": [
        "# Chart - 1 visualization code\n",
        "#histogram of app ratings\n",
        "plt.figure(figsize=(8, 6))\n",
        "plt.hist(merge_df['Rating'], bins=20, color='olive', edgecolor='black') # Using a single color for histogram\n",
        "plt.title('Distribution of App Ratings')\n",
        "plt.xlabel('Rating')\n",
        "plt.ylabel('count')\n",
        "plt.show()"
      ],
      "metadata": {
        "id": "7v_ESjsspbW7"
      },
      "execution_count": null,
      "outputs": []
    },
    {
      "cell_type": "markdown",
      "source": [
        "##### 1. Why did you pick the specific chart?"
      ],
      "metadata": {
        "id": "K5QZ13OEpz2H"
      }
    },
    {
      "cell_type": "markdown",
      "source": [
        "In the context of the app details dataset, a histogram is a natural choice to explore the distribution of the app ratings. It allows you to quickly get a sense of how the ratings are spread out and identify any interesting patterns or anomalies in the data. This information can then be used to inform further analysis, such as investigating factors that contribute to higher or lower app ratings."
      ],
      "metadata": {
        "id": "XESiWehPqBRc"
      }
    },
    {
      "cell_type": "markdown",
      "source": [
        "##### 2. What is/are the insight(s) found from the chart?"
      ],
      "metadata": {
        "id": "lQ7QKXXCp7Bj"
      }
    },
    {
      "cell_type": "markdown",
      "source": [
        " The insights gained from the histogram can guide further data analysis, such as exploring factors that contribute to higher or lower app ratings, identifying target segments for marketing or feature development, or investigating the reasons behind unusual rating patterns.Overall, the histogram of app ratings can provide a wealth of information about the distribution, central tendency, variability, and potential anomalies within the dataset. This can lead to valuable insights that can inform strategicdecision-making and product development for the apps."
      ],
      "metadata": {
        "id": "C_j1G7yiqdRP"
      }
    },
    {
      "cell_type": "markdown",
      "source": [
        "##### 3. Will the gained insights help creating a positive business impact?\n",
        "Are there any insights that lead to negative growth? Justify with specific reason."
      ],
      "metadata": {
        "id": "448CDAPjqfQr"
      }
    },
    {
      "cell_type": "markdown",
      "source": [
        "The insights from the histogram can inform the business's strategic decisions, such as which apps to focus on, which features to prioritize, or which market segments to target, ultimately leading to better resource allocation and higher profitability. The histogram provides a high-level view of the rating distribution, but it does not capture the nuanced feedback and insights that can be gleaned from customer reviews and comments. Overemphasizing the histogram at the expense of qualitative customer feedback could lead to a myopic understanding of user needs.In summary, the insights gained from the histogram of app ratings can have a direct and positive impact on the business's performance, enabling them to make data-driven decisions, optimize their app portfolio, and better cater to the needs of their customers, ultimately driving growth and success in the competitive app market."
      ],
      "metadata": {
        "id": "3cspy4FjqxJW"
      }
    },
    {
      "cell_type": "markdown",
      "source": [
        "#### Chart - 2"
      ],
      "metadata": {
        "id": "KSlN3yHqYklG"
      }
    },
    {
      "cell_type": "code",
      "source": [
        "# Chart - 2 visualization code\n",
        "plt.figure(figsize=(12, 8)) # Increased figure size\n",
        "sns.countplot(y='Category', data=merge_df, order = merge_df['Category'].value_counts().index, palette='viridis') # Added color palette\n",
        "plt.title('Distribution of App Categories')\n",
        "plt.xlabel('Count')\n",
        "plt.ylabel('Category')\n",
        "plt.show() # Added plt.show() to display the plot"
      ],
      "metadata": {
        "id": "R4YgtaqtYklH"
      },
      "execution_count": null,
      "outputs": []
    },
    {
      "cell_type": "markdown",
      "source": [
        "##### 1. Why did you pick the specific chart?"
      ],
      "metadata": {
        "id": "t6dVpIINYklI"
      }
    },
    {
      "cell_type": "markdown",
      "source": [
        "A bar plot is a suitable choice to visualize the relationship between app category (a categorical variable) and app rating (a numerical variable). It allows us to compare the average rating across different app categories and identify which categories tend to have higher or lower ratings.\n",
        "\n"
      ],
      "metadata": {
        "id": "5aaW0BYyYklI"
      }
    },
    {
      "cell_type": "markdown",
      "source": [
        "##### 2. What is/are the insight(s) found from the chart?"
      ],
      "metadata": {
        "id": "ijmpgYnKYklI"
      }
    },
    {
      "cell_type": "markdown",
      "source": [
        "Looking at the box plot of app ratings by category, we can observe the distribution of ratings within each category. The countshows the interquartile range (IQR), with the median rating marked within the box. The whiskers extend to show the range of the data, excluding outliers, which are plotted as individual points. This allows us to compare the median rating, the spread of ratings, and the presence of outliers across different app categories. Categories with higher median ratings and smaller boxes might indicate more consistent positive reviews, while those with lower medians or larger boxes might suggest more variability or lower average satisfaction. Outliers could represent exceptionally good or bad apps within a category."
      ],
      "metadata": {
        "id": "PSx9atu2YklI"
      }
    },
    {
      "cell_type": "markdown",
      "source": [
        "##### 3. Will the gained insights help creating a positive business impact?\n",
        "Are there any insights that lead to negative growth? Justify with specific reason."
      ],
      "metadata": {
        "id": "-JiQyfWJYklI"
      }
    },
    {
      "cell_type": "markdown",
      "source": [
        "The insights gained from the box plot of app ratings by category can definitely have a positive business impact. By identifying categories with consistently high ratings, a business can focus its development and marketing efforts on those areas, potentially leading to higher user satisfaction and engagement. Conversely, categories with lower median ratings or a wide spread of ratings might indicate areas where improvement is needed, or perhaps categories to avoid if resources are limited. Ignoring these insights could lead to negative growth if a business invests heavily in a category with poor performance or high user dissatisfaction. For example, consistently low ratings in a particular category could signal fundamental issues with the apps in that category, leading to negative word-of-mouth and decreased user acquisition."
      ],
      "metadata": {
        "id": "BcBbebzrYklV"
      }
    },
    {
      "cell_type": "markdown",
      "source": [
        "#### Chart - 3"
      ],
      "metadata": {
        "id": "EM7whBJCYoAo"
      }
    },
    {
      "cell_type": "code",
      "source": [
        "# Chart - 3 visualization code\n",
        "plt.figure(figsize=(10, 6))\n",
        "sns.scatterplot(x='Reviews', y='Rating', data=merge_df, color='teal') # Using a single color for scatter plot\n",
        "plt.xscale('log') # Apply logarithmic scale to the x-axis\n",
        "plt.title('Scatter Plot of Reviews vs. Rating (Log Scale for Reviews)')\n",
        "plt.xlabel('Reviews (Log Scale)')\n",
        "plt.ylabel('Rating')\n",
        "plt.show()"
      ],
      "metadata": {
        "id": "t6GMdE67YoAp"
      },
      "execution_count": null,
      "outputs": []
    },
    {
      "cell_type": "markdown",
      "source": [
        "##### 1. Why did you pick the specific chart?"
      ],
      "metadata": {
        "id": "fge-S5ZAYoAp"
      }
    },
    {
      "cell_type": "markdown",
      "source": [
        "A scatter plot is a good choice to visualize the relationship between two numerical variables, in this case, 'Reviews' and 'Rating'. It allows us to see if there is a correlation or pattern between the number of reviews an app has and its rating. Each point on the scatter plot represents an app, with its position determined by its number of reviews on the x-axis and its rating on the y-axis."
      ],
      "metadata": {
        "id": "5dBItgRVYoAp"
      }
    },
    {
      "cell_type": "markdown",
      "source": [
        "##### 2. What is/are the insight(s) found from the chart?"
      ],
      "metadata": {
        "id": "85gYPyotYoAp"
      }
    },
    {
      "cell_type": "markdown",
      "source": [
        "Looking at the scatter plot of Reviews vs. Rating, we can observe the relationship between the number of reviews an app has and its rating. Generally, we might expect to see a trend where apps with more reviews tend to have higher ratings, as more popular apps often receive more feedback, and successful apps are likely to have positive reviews. However, the scatter plot will show if this is consistently true or if there are exceptions. We can look for clusters of points, trends (positive or negative correlation), and outliers (apps with a high number of reviews but a low rating, or vice versa)."
      ],
      "metadata": {
        "id": "4jstXR6OYoAp"
      }
    },
    {
      "cell_type": "markdown",
      "source": [
        "##### 3. Will the gained insights help creating a positive business impact?\n",
        "Are there any insights that lead to negative growth? Justify with specific reason."
      ],
      "metadata": {
        "id": "RoGjAbkUYoAp"
      }
    },
    {
      "cell_type": "markdown",
      "source": [
        "In summary, the scatter plot can be a powerful tool for gaining insights into the relationship between reviews and ratings, which can inform business decisions and lead to positive growth. However, it's crucial to interpret the insights carefully, consider other factors, and complement the quantitative analysis with qualitative data to avoid potentially negative outcomes."
      ],
      "metadata": {
        "id": "zfJ8IqMcYoAp"
      }
    },
    {
      "cell_type": "markdown",
      "source": [
        "#### Chart - 4"
      ],
      "metadata": {
        "id": "4Of9eVA-YrdM"
      }
    },
    {
      "cell_type": "code",
      "source": [
        "# Chart - 4 visualization code\n",
        "plt.figure(figsize=(10, 6))\n",
        "sns.countplot(x='Type', data=merge_df, palette='plasma') # Added color palette\n",
        "plt.title('Count Plot of App Types')\n",
        "plt.xlabel('Type')\n",
        "plt.ylabel('Count')\n",
        "plt.xticks(rotation=0) # Removed rotation for better readability with only two categories\n",
        "plt.tight_layout() # Adjust layout to prevent labels from being cut off\n",
        "plt.show() # Added plt.show() to display the plot"
      ],
      "metadata": {
        "id": "irlUoxc8YrdO"
      },
      "execution_count": null,
      "outputs": []
    },
    {
      "cell_type": "markdown",
      "source": [
        "##### 1. Why did you pick the specific chart?"
      ],
      "metadata": {
        "id": "iky9q4vBYrdO"
      }
    },
    {
      "cell_type": "markdown",
      "source": [
        "A count plot is used to display the counts of observations in each categorical bin. In this case, it's used to show the distribution of app types ('Free' vs. 'Paid') and how many apps fall into each category. This helps visualize the proportion of free and paid apps in the dataset."
      ],
      "metadata": {
        "id": "aJRCwT6DYrdO"
      }
    },
    {
      "cell_type": "markdown",
      "source": [
        "##### 2. What is/are the insight(s) found from the chart?"
      ],
      "metadata": {
        "id": "F6T5p64dYrdO"
      }
    },
    {
      "cell_type": "markdown",
      "source": [
        "Looking at the count plot of app types, we can see the number of apps that are 'Free' and the number of apps that are 'Paid'. The most obvious insight is which type of app is more prevalent in the dataset. We can also see the relative proportion of free versus paid apps. For example, if the 'Free' bar is significantly taller than the 'Paid' bar, it indicates that there are many more free apps than paid apps in this datase"
      ],
      "metadata": {
        "id": "Xx8WAJvtYrdO"
      }
    },
    {
      "cell_type": "markdown",
      "source": [
        "##### 3. Will the gained insights help creating a positive business impact?\n",
        "Are there any insights that lead to negative growth? Justify with specific reason."
      ],
      "metadata": {
        "id": "y-Ehk30pYrdP"
      }
    },
    {
      "cell_type": "markdown",
      "source": [
        " the insights from the count plot of app types can be valuable for strategic decision-making, particularly regarding pricing and monetization. However, it's essential to consider these insights in conjunction with other factors, such as user reviews and the success of individual apps, to avoid potentially negative outcomes from a limited perspective."
      ],
      "metadata": {
        "id": "jLNxxz7MYrdP"
      }
    },
    {
      "cell_type": "markdown",
      "source": [
        "#### Chart - 5"
      ],
      "metadata": {
        "id": "bamQiAODYuh1"
      }
    },
    {
      "cell_type": "code",
      "source": [
        "# Chart - 5 visualization code\n",
        "plt.figure(figsize=(10, 6))\n",
        "sns.boxplot(x='Content Rating', y='Rating', data=merge_df, palette='tab10') # Added color palette\n",
        "plt.title('Box Plot of App Ratings by Content Rating')\n",
        "plt.xlabel('Content Rating')\n",
        "plt.ylabel('Rating')\n",
        "plt.show() # Added plt.show() to display the plot"
      ],
      "metadata": {
        "id": "TIJwrbroYuh3"
      },
      "execution_count": null,
      "outputs": []
    },
    {
      "cell_type": "markdown",
      "source": [
        "##### 1. Why did you pick the specific chart?"
      ],
      "metadata": {
        "id": "QHF8YVU7Yuh3"
      }
    },
    {
      "cell_type": "markdown",
      "source": [
        "A box plot is a suitable choice to visualize the relationship between a categorical variable ('Content Rating') and a numerical variable ('Rating'). It allows us to compare the distribution of ratings across different content ratings and identify any differences in the median rating, spread, or presence of outliers among them."
      ],
      "metadata": {
        "id": "dcxuIMRPYuh3"
      }
    },
    {
      "cell_type": "markdown",
      "source": [
        "##### 2. What is/are the insight(s) found from the chart?"
      ],
      "metadata": {
        "id": "GwzvFGzlYuh3"
      }
    },
    {
      "cell_type": "markdown",
      "source": [
        "Looking at the box plot of App Ratings by Content Rating, we can compare the distribution of ratings for different content ratings (e.g., Everyone, Teen, Mature 17+, etc.). The box plot shows the median rating for each content rating category, as well as the spread of ratings within each category (the interquartile range) and any outliers. This allows us to see if certain content ratings tend to have higher or lower median ratings, or if the variability in ratings differs significantly across content ratings. For instance, we might observe if apps rated 'Everyone' tend to have a different rating distribution compared to apps rated 'Mature 17+'."
      ],
      "metadata": {
        "id": "uyqkiB8YYuh3"
      }
    },
    {
      "cell_type": "markdown",
      "source": [
        "##### 3. Will the gained insights help creating a positive business impact?\n",
        "Are there any insights that lead to negative growth? Justify with specific reason."
      ],
      "metadata": {
        "id": "qYpmQ266Yuh3"
      }
    },
    {
      "cell_type": "markdown",
      "source": [
        "In summary, the insights from the box plot of App Ratings by Content Rating can be valuable for understanding target audiences, informing content and marketing strategies, and identifying potential risks. However, it's crucial to interpret these insights in a broader context and consider other factors to avoid potentially negative outcomes."
      ],
      "metadata": {
        "id": "_WtzZ_hCYuh4"
      }
    },
    {
      "cell_type": "markdown",
      "source": [
        "#### Chart - 6"
      ],
      "metadata": {
        "id": "OH-pJp9IphqM"
      }
    },
    {
      "cell_type": "code",
      "source": [
        "# Chart - 6 visualization code\n",
        "plt.figure(figsize=(10, 6))\n",
        "sns.countplot(x='Installs', data=merge_df, palette='viridis') # Added color palette\n",
        "plt.title('Count Plot of App Installs')\n",
        "plt.xlabel('Installs')\n",
        "plt.ylabel('Count')\n",
        "plt.xticks(rotation=90) # Rotate x-axis labels for better readability\n",
        "plt.tight_layout() # Adjust layout to prevent labels from being cut off\n",
        "plt.show()"
      ],
      "metadata": {
        "id": "kuRf4wtuphqN"
      },
      "execution_count": null,
      "outputs": []
    },
    {
      "cell_type": "markdown",
      "source": [
        "##### 1. Why did you pick the specific chart?"
      ],
      "metadata": {
        "id": "bbFf2-_FphqN"
      }
    },
    {
      "cell_type": "markdown",
      "source": [
        "A count plot for 'Installs'  is used to visualize the distribution of the number of installs across different apps. Since the 'Installs' column is likely categorical (or binned into categories), a count plot shows how many apps fall into each install range."
      ],
      "metadata": {
        "id": "loh7H2nzphqN"
      }
    },
    {
      "cell_type": "markdown",
      "source": [
        "##### 2. What is/are the insight(s) found from the chart?"
      ],
      "metadata": {
        "id": "_ouA3fa0phqN"
      }
    },
    {
      "cell_type": "markdown",
      "source": [
        "This chart shows the frequency of apps within different installation ranges. You can see which installation tiers are most common in the dataset. For example, you might observe that a large number of apps fall into the lower installation ranges (e.g., 100+, 1,000+), while fewer apps have very high installation counts (e.g., 1,000,000+, 10,000,000+)."
      ],
      "metadata": {
        "id": "VECbqPI7phqN"
      }
    },
    {
      "cell_type": "markdown",
      "source": [
        "##### 3. Will the gained insights help creating a positive business impact?\n",
        "Are there any insights that lead to negative growth? Justify with specific reason."
      ],
      "metadata": {
        "id": "Seke61FWphqN"
      }
    },
    {
      "cell_type": "markdown",
      "source": [
        " Identifying the most common installation tiers helps set realistic growth targets and understand market penetration. Strategies can be tailored to move from lower to higher install brackets."
      ],
      "metadata": {
        "id": "DW4_bGpfphqN"
      }
    },
    {
      "cell_type": "markdown",
      "source": [
        "#### Chart - 7"
      ],
      "metadata": {
        "id": "PIIx-8_IphqN"
      }
    },
    {
      "cell_type": "code",
      "source": [
        "# Chart - 7 visualization code\n",
        "plt.figure(figsize=(10, 6))\n",
        "sns.boxplot(x='Genres', y='Rating', data=merge_df, palette='husl') # Added color palette\n",
        "plt.title('Box Plot of App Ratings by Genres')\n",
        "plt.xlabel('Genres')\n",
        "plt.ylabel('Rating')\n",
        "plt.xticks(rotation=90) # Rotate x-axis labels for better readability\n",
        "plt.tight_layout() # Adjust layout to prevent labels from being cut off\n",
        "plt.show()"
      ],
      "metadata": {
        "id": "lqAIGUfyphqO"
      },
      "execution_count": null,
      "outputs": []
    },
    {
      "cell_type": "markdown",
      "source": [
        "##### 1. Why did you pick the specific chart?"
      ],
      "metadata": {
        "id": "t27r6nlMphqO"
      }
    },
    {
      "cell_type": "markdown",
      "source": [
        "A box plot is a suitable choice to visualize the relationship between 'Genres' (a categorical variable) and 'Rating' (a numerical variable). Similar to the box plot for categories, it allows us to compare the distribution of ratings across different app genres and identify any differences in the median rating, spread, or presence of outliers among them."
      ],
      "metadata": {
        "id": "iv6ro40sphqO"
      }
    },
    {
      "cell_type": "markdown",
      "source": [
        "##### 2. What is/are the insight(s) found from the chart?"
      ],
      "metadata": {
        "id": "r2jJGEOYphqO"
      }
    },
    {
      "cell_type": "markdown",
      "source": [
        "This chart will show the distribution of app ratings within each genre. You can identify genres that tend to have higher or lower median ratings, as well as those with a wider or narrower spread of ratings. Outliers in specific genres might indicate exceptionally good or bad apps within that genre. This helps in understanding how app ratings vary across different types of content and functionality."
      ],
      "metadata": {
        "id": "Po6ZPi4hphqO"
      }
    },
    {
      "cell_type": "markdown",
      "source": [
        "##### 3. Will the gained insights help creating a positive business impact?\n",
        "Are there any insights that lead to negative growth? Justify with specific reason."
      ],
      "metadata": {
        "id": "b0JNsNcRphqO"
      }
    },
    {
      "cell_type": "markdown",
      "source": [
        " Identifying genres with consistently high ratings can inform a business about potentially lucrative areas for app development or investment. Understanding the rating distribution within a genre helps in setting realistic performance expectations."
      ],
      "metadata": {
        "id": "xvSq8iUTphqO"
      }
    },
    {
      "cell_type": "markdown",
      "source": [
        "#### Chart - 8"
      ],
      "metadata": {
        "id": "BZR9WyysphqO"
      }
    },
    {
      "cell_type": "code",
      "source": [
        "# Chart - 8 visualization code\n",
        "plt.figure(figsize=(10, 6))\n",
        "sns.countplot(x='Price', data=merge_df, palette='Spectral') # Added color palette\n",
        "plt.title('Count Plot of App Prices')\n",
        "plt.xlabel('Price')\n",
        "plt.ylabel('Count')\n",
        "plt.xticks(rotation=90) # Rotate x-axis labels for better readability\n",
        "plt.tight_layout() # Adjust layout to prevent labels from being cut off\n",
        "plt.show() # Added plt.show() to display the plot"
      ],
      "metadata": {
        "id": "TdPTWpAVphqO"
      },
      "execution_count": null,
      "outputs": []
    },
    {
      "cell_type": "markdown",
      "source": [
        "##### 1. Why did you pick the specific chart?"
      ],
      "metadata": {
        "id": "jj7wYXLtphqO"
      }
    },
    {
      "cell_type": "markdown",
      "source": [
        "The count plot for 'Price' shows the distribution of pricing strategies among apps. You can see how many apps are free, how many are in different price tiers, and identify the most common pricing models. This can provide insights into the market's pricing trends."
      ],
      "metadata": {
        "id": "Ob8u6rCTphqO"
      }
    },
    {
      "cell_type": "markdown",
      "source": [
        "##### 2. What is/are the insight(s) found from the chart?"
      ],
      "metadata": {
        "id": "eZrbJ2SmphqO"
      }
    },
    {
      "cell_type": "markdown",
      "source": [
        " This chart illustrates the distribution of app pricing models. You can see the proportion of free apps compared to paid apps, and the frequency of apps at different price points. It's highly likely that the \"Free\" category will dominate this plot, indicating that the vast majority of apps in the dataset are free."
      ],
      "metadata": {
        "id": "mZtgC_hjphqO"
      }
    },
    {
      "cell_type": "markdown",
      "source": [
        "##### 3. Will the gained insights help creating a positive business impact?\n",
        "Are there any insights that lead to negative growth? Justify with specific reason."
      ],
      "metadata": {
        "id": "rFu4xreNphqO"
      }
    },
    {
      "cell_type": "markdown",
      "source": [
        " Understanding the price distribution helps in positioning a new app competitively. It can highlight potential niches for paid apps if most competitors are free."
      ],
      "metadata": {
        "id": "ey_0qi68phqO"
      }
    },
    {
      "cell_type": "markdown",
      "source": [
        "#### Chart - 9"
      ],
      "metadata": {
        "id": "x-EpHcCOp1ci"
      }
    },
    {
      "cell_type": "code",
      "source": [
        "# Chart - 9 visualization code\n",
        "plt.figure(figsize=(10, 6))\n",
        "sns.boxplot(x='Android Ver', y='Rating', data=data1)\n",
        "plt.title('Box Plot of App Ratings by Android Versions')\n",
        "plt.xlabel('Android Ver')\n",
        "plt.ylabel('Rating')\n",
        "plt.xticks(rotation=90) # Rotate x-axis labels for better readability"
      ],
      "metadata": {
        "id": "mAQTIvtqp1cj"
      },
      "execution_count": null,
      "outputs": []
    },
    {
      "cell_type": "markdown",
      "source": [
        "##### 1. Why did you pick the specific chart?"
      ],
      "metadata": {
        "id": "X_VqEhTip1ck"
      }
    },
    {
      "cell_type": "markdown",
      "source": [
        " A box plot is suitable for comparing the distribution of a numerical variable (Rating) across different categorical groups, in this case, the various Android versions. It allows for a clear visual comparison of the median rating, the spread of ratings, and the presence of outliers for each Android version."
      ],
      "metadata": {
        "id": "-vsMzt_np1ck"
      }
    },
    {
      "cell_type": "markdown",
      "source": [
        "##### 2. What is/are the insight(s) found from the chart?"
      ],
      "metadata": {
        "id": "8zGJKyg5p1ck"
      }
    },
    {
      "cell_type": "markdown",
      "source": [
        "This chart will reveal if app ratings vary significantly depending on the Android version. You can see if certain Android versions are associated with higher or lower median ratings, or if the variability in ratings differs across versions. This can highlight potential compatibility issues or performance differences on certain Android versions that affect user satisfaction."
      ],
      "metadata": {
        "id": "ZYdMsrqVp1ck"
      }
    },
    {
      "cell_type": "markdown",
      "source": [
        "##### 3. Will the gained insights help creating a positive business impact?\n",
        "Are there any insights that lead to negative growth? Justify with specific reason."
      ],
      "metadata": {
        "id": "PVzmfK_Ep1ck"
      }
    },
    {
      "cell_type": "markdown",
      "source": [
        " Identifying Android versions where an app performs well (higher ratings) can help in targeting marketing efforts towards users of those versions. Understanding which versions have lower ratings can inform development priorities to address compatibility or performance issues, leading to improved user satisfaction and ratings on those versions."
      ],
      "metadata": {
        "id": "druuKYZpp1ck"
      }
    },
    {
      "cell_type": "markdown",
      "source": [
        "#### Chart - 10"
      ],
      "metadata": {
        "id": "n3dbpmDWp1ck"
      }
    },
    {
      "cell_type": "code",
      "source": [
        "# Chart - 10 visualization code\n",
        "plt.figure(figsize=(10, 6))\n",
        "sns.countplot(x='Sentiment', data=merge_df, palette='coolwarm') # Added color palette\n",
        "plt.title('Count Plot of Sentiment Labels')\n",
        "plt.xlabel('Sentiment')\n",
        "plt.ylabel('Count')\n",
        "plt.show() # Added plt.show() to display the plot"
      ],
      "metadata": {
        "id": "bwevp1tKp1ck"
      },
      "execution_count": null,
      "outputs": []
    },
    {
      "cell_type": "markdown",
      "source": [
        "##### 1. Why did you pick the specific chart?"
      ],
      "metadata": {
        "id": "ylSl6qgtp1ck"
      }
    },
    {
      "cell_type": "markdown",
      "source": [
        "A count plot is the ideal choice for visualizing the frequency of each category in a categorical variable like 'Sentiment'. It clearly shows how many reviews fall into each sentiment class (Positive, Negative, Neutral), providing a quick overview of the overall sentiment towards the apps."
      ],
      "metadata": {
        "id": "m2xqNkiQp1ck"
      }
    },
    {
      "cell_type": "markdown",
      "source": [
        "##### 2. What is/are the insight(s) found from the chart?"
      ],
      "metadata": {
        "id": "ZWILFDl5p1ck"
      }
    },
    {
      "cell_type": "markdown",
      "source": [
        " This chart will show the proportion of positive, negative, and neutral reviews. You can see which sentiment is most prevalent and the relative balance between positive and negative feedback. A large number of positive reviews is a good sign, while a significant number of negative reviews warrants further investigation."
      ],
      "metadata": {
        "id": "x-lUsV2mp1ck"
      }
    },
    {
      "cell_type": "markdown",
      "source": [
        "##### 3. Will the gained insights help creating a positive business impact?\n",
        "Are there any insights that lead to negative growth? Justify with specific reason."
      ],
      "metadata": {
        "id": "M7G43BXep1ck"
      }
    },
    {
      "cell_type": "markdown",
      "source": [
        "Understanding the overall sentiment distribution helps gauge user satisfaction. A high proportion of positive reviews indicates a generally well-received app or set of apps, which can be leveraged in marketing. Identifying a large number of negative reviews highlights areas that urgently need attention and improvement."
      ],
      "metadata": {
        "id": "5wwDJXsLp1cl"
      }
    },
    {
      "cell_type": "markdown",
      "source": [
        "#### Chart - 11"
      ],
      "metadata": {
        "id": "Ag9LCva-p1cl"
      }
    },
    {
      "cell_type": "code",
      "source": [
        "# Chart - 11 visualization code\n",
        "plt.figure(figsize=(10, 6))\n",
        "sns.scatterplot(x='Sentiment_Polarity', y='Sentiment_Subjectivity', data=merge_df, hue='Sentiment', palette='viridis') # Added color based on Sentiment\n",
        "plt.title('Scatter Plot of Sentiment Polarity vs. Sentiment Subjectivity')\n",
        "plt.xlabel('Sentiment Polarity')\n",
        "plt.ylabel('Sentiment Subjectivity')\n",
        "plt.show()"
      ],
      "metadata": {
        "id": "EUfxeq9-p1cl"
      },
      "execution_count": null,
      "outputs": []
    },
    {
      "cell_type": "markdown",
      "source": [
        "##### 1. Why did you pick the specific chart?"
      ],
      "metadata": {
        "id": "E6MkPsBcp1cl"
      }
    },
    {
      "cell_type": "markdown",
      "source": [
        " Assuming 'Sentiment_Polarity' is categorized, a scatter plot is useful for comparing the distribution of 'Sentiment_Subjectivity' (a numerical variable) across different categories of 'Sentiment_Polarity'. It helps to see if the subjectivity of reviews varies depending on whether the sentiment is positive, negative, or neutral."
      ],
      "metadata": {
        "id": "V22bRsFWp1cl"
      }
    },
    {
      "cell_type": "markdown",
      "source": [
        "##### 2. What is/are the insight(s) found from the chart?"
      ],
      "metadata": {
        "id": "2cELzS2fp1cl"
      }
    },
    {
      "cell_type": "markdown",
      "source": [
        " This chart would show the distribution of how subjective or objective reviews are for different sentiment levels. For example, you might see if highly positive or highly negative reviews tend to be more subjective than neutral reviews. This can provide insights into the nature of emotional vs. objective feedback."
      ],
      "metadata": {
        "id": "ozQPc2_Ip1cl"
      }
    },
    {
      "cell_type": "markdown",
      "source": [
        "##### 3. Will the gained insights help creating a positive business impact?\n",
        "Are there any insights that lead to negative growth? Justify with specific reason."
      ],
      "metadata": {
        "id": "3MPXvC8up1cl"
      }
    },
    {
      "cell_type": "markdown",
      "source": [
        "Understanding the relationship between sentiment polarity and subjectivity can help in interpreting reviews. Highly subjective positive reviews might indicate strong emotional attachment, while objective negative reviews might point to specific functional issues. This can inform how to prioritize and act on feedback."
      ],
      "metadata": {
        "id": "GL8l1tdLp1cl"
      }
    },
    {
      "cell_type": "markdown",
      "source": [
        "#### Chart - 12 - Correlation Heatmap"
      ],
      "metadata": {
        "id": "NC_X3p0fY2L0"
      }
    },
    {
      "cell_type": "code",
      "source": [
        "# Correlation Heatmap visualization code\n",
        "plt.figure(figsize=(10, 6))\n",
        "numeric_merge_df = merge_df.select_dtypes(include=np.number) # Select only numeric columns\n",
        "sns.heatmap(numeric_merge_df.corr(), annot=True, cmap='coolwarm') # Added color palette\n",
        "plt.title('Correlation Heatmap of Merged Data')\n",
        "plt.show()"
      ],
      "metadata": {
        "id": "xyC9zolEZNRQ"
      },
      "execution_count": null,
      "outputs": []
    },
    {
      "cell_type": "markdown",
      "source": [
        "##### 1. Why did you pick the specific chart?"
      ],
      "metadata": {
        "id": "UV0SzAkaZNRQ"
      }
    },
    {
      "cell_type": "markdown",
      "source": [
        "A heatmap is an excellent choice for visualizing the correlation matrix of numerical variables. The color intensity and annotations make it easy to see the strength and direction of the linear relationship between each pair of variables. This is particularly useful in exploratory data analysis to identify potential relationships that warrant further investigation."
      ],
      "metadata": {
        "id": "DVPuT8LYZNRQ"
      }
    },
    {
      "cell_type": "markdown",
      "source": [
        "##### 2. What is/are the insight(s) found from the chart?"
      ],
      "metadata": {
        "id": "YPEH6qLeZNRQ"
      }
    },
    {
      "cell_type": "markdown",
      "source": [
        "The heatmap will show the correlation coefficients between numerical columns in the data1 DataFrame (like Rating, Reviews, Size, etc., after they have been converted to numeric types where applicable). You can identify strong positive correlations (variables that increase together), strong negative correlations (variables where one increases as the other decreases), and weak or no correlations. For example, you might see a positive correlation between 'Reviews' and 'Installs', suggesting that apps with more reviews also tend to have more installs."
      ],
      "metadata": {
        "id": "bfSqtnDqZNRR"
      }
    },
    {
      "cell_type": "markdown",
      "source": [
        "#### Chart - 13 - Pair Plot"
      ],
      "metadata": {
        "id": "q29F0dvdveiT"
      }
    },
    {
      "cell_type": "code",
      "source": [
        "# Pair Plot visualization code\n",
        "sns.pairplot(merge_df, height=2.5, hue='Sentiment', palette='viridis') # Increased height for better visibility and added color based on Sentiment\n",
        "plt.show() # Added plt.show() to display the plot"
      ],
      "metadata": {
        "id": "o58-TEIhveiU"
      },
      "execution_count": null,
      "outputs": []
    },
    {
      "cell_type": "markdown",
      "source": [
        "##### 1. Why did you pick the specific chart?"
      ],
      "metadata": {
        "id": "EXh0U9oCveiU"
      }
    },
    {
      "cell_type": "markdown",
      "source": [
        " A pair plot is chosen to visualize the relationships between all pairs of numerical variables in the dataset in a single view. It helps in quickly identifying trends, correlations, and distributions that might not be apparent from individual plots or correlation heatmaps alone. It provides a comprehensive overview of the pairwise relationships."
      ],
      "metadata": {
        "id": "eMmPjTByveiU"
      }
    },
    {
      "cell_type": "markdown",
      "source": [
        "##### 2. What is/are the insight(s) found from the chart?"
      ],
      "metadata": {
        "id": "22aHeOlLveiV"
      }
    },
    {
      "cell_type": "markdown",
      "source": [
        "The scatter plots in the off-diagonal cells show the relationship between two different numerical variables. You can observe the shape of the relationship (linear, non-linear), the direction (positive or negative correlation), and the spread of the data. The diagonal plots show the distribution of each individual variable, similar to a histogram. This allows for a detailed examination of how each numerical variable is distributed and how it relates to every other numerical variable in the dataset."
      ],
      "metadata": {
        "id": "uPQ8RGwHveiV"
      }
    },
    {
      "cell_type": "markdown",
      "source": [
        "## **5. Solution to Business Objective**"
      ],
      "metadata": {
        "id": "JcMwzZxoAimU"
      }
    },
    {
      "cell_type": "markdown",
      "source": [
        "#### What do you suggest the client to achieve Business Objective ?\n",
        "Explain Briefly."
      ],
      "metadata": {
        "id": "8G2x9gOozGDZ"
      }
    },
    {
      "cell_type": "markdown",
      "source": [
        "Based on the analysis we've done so far, here are some suggestions for the client to achieve their business objective of discovering key factors responsible for app engagement and success:\n",
        "\n",
        "Focus on High-Rated Categories and Genres: The analysis of ratings by category and genre can reveal which types of apps are generally more well-received by users. The client should consider developing or focusing on apps within these categories and genres.\n",
        "Prioritize Apps with High Sentiment Polarity: The user reviews data provides insights into user sentiment. Apps with a higher positive sentiment polarity are likely to have more engaged users. The client should analyze the characteristics of these apps and the factors contributing to positive reviews.\n",
        "Investigate the Impact of App Size and Updates: While the correlation heatmap didn't show strong correlations with rating, further investigation into how app size and update frequency relate to user engagement and ratings could be beneficial.\n",
        "Understand User Sentiment Drivers: Delve deeper into the user reviews, especially those with high positive sentiment. Identify common themes, keywords, and features that users praise. This can inform product development and marketing strategies.\n",
        "Analyze Competitors in Successful Categories: Examine successful apps in high-rated categories and genres to understand their strategies, features, and user engagement tactics.\n",
        "Consider the Impact of Price and Type: Analyze how the 'Type' (free vs. paid) and 'Price' of an app influence its installs and ratings. This can help in making informed decisions about pricing models.\n",
        "Refine Content Rating and Android Version Targeting: While not strongly correlated with rating in the initial heatmap, understanding the distribution of installs and ratings across different content ratings and Android versions can help in targeting the right audience and ensuring compatibility.\n",
        "To further refine these suggestions, we could perform more in-depth analysis, such as Natural Language Processing (NLP) on user reviews to extract specific feedback and identify popular features or pain points.\n",
        "Segmentation of users based on their reviews and sentiment.\n",
        "Time series analysis of app updates and their impact on ratings and reviews."
      ],
      "metadata": {
        "id": "pASKb0qOza21"
      }
    },
    {
      "cell_type": "markdown",
      "source": [
        "# **Conclusion**"
      ],
      "metadata": {
        "id": "gCX9965dhzqZ"
      }
    },
    {
      "cell_type": "markdown",
      "source": [
        "In conclusion, achieving app engagement and success in the Play Store is a multifaceted challenge. While factors like category, genre, and the volume of reviews play a role, a deeper understanding of user sentiment and the specific reasons behind positive and negative feedback, as well as the impact of factors like pricing and updates, is crucial. Future analysis should focus on leveraging the rich qualitative data in user reviews and exploring multivariate relationships to gain a more comprehensive picture of what drives success in this competitive market."
      ],
      "metadata": {
        "id": "Fjb1IsQkh3yE"
      }
    },
    {
      "cell_type": "markdown",
      "source": [
        "### ***Hurrah! You have successfully completed your EDA Capstone Project !!!***"
      ],
      "metadata": {
        "id": "gIfDvo9L0UH2"
      }
    }
  ]
}